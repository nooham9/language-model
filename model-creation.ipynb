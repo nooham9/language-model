{
 "cells": [
  {
   "cell_type": "code",
   "execution_count": 1,
   "metadata": {},
   "outputs": [
    {
     "ename": "FileNotFoundError",
     "evalue": "[WinError 3] The system cannot find the path specified: '../mldata/train-cropped'",
     "output_type": "error",
     "traceback": [
      "\u001b[1;31m---------------------------------------------------------------------------\u001b[0m",
      "\u001b[1;31mFileNotFoundError\u001b[0m                         Traceback (most recent call last)",
      "Cell \u001b[1;32mIn[1], line 13\u001b[0m\n\u001b[0;32m      9\u001b[0m output_folder \u001b[38;5;241m=\u001b[39m \u001b[38;5;124m'\u001b[39m\u001b[38;5;124m/data\u001b[39m\u001b[38;5;124m'\u001b[39m\n\u001b[0;32m     12\u001b[0m \u001b[38;5;66;03m# Get a list of all files in the data folder\u001b[39;00m\n\u001b[1;32m---> 13\u001b[0m all_files \u001b[38;5;241m=\u001b[39m \u001b[43mos\u001b[49m\u001b[38;5;241;43m.\u001b[39;49m\u001b[43mlistdir\u001b[49m\u001b[43m(\u001b[49m\u001b[43mdata_folder\u001b[49m\u001b[43m)\u001b[49m\n\u001b[0;32m     15\u001b[0m \u001b[38;5;66;03m# Randomly sample files\u001b[39;00m\n\u001b[0;32m     16\u001b[0m selected_files \u001b[38;5;241m=\u001b[39m random\u001b[38;5;241m.\u001b[39msample(all_files, \u001b[38;5;241m1000\u001b[39m)\n",
      "\u001b[1;31mFileNotFoundError\u001b[0m: [WinError 3] The system cannot find the path specified: '../mldata/train-cropped'"
     ]
    }
   ],
   "source": [
    "import os\n",
    "import random\n",
    "import shutil\n",
    "\n",
    "# Set the path to your data folder\n",
    "data_folder = '../mldata/train-cropped'\n",
    "\n",
    "# Set the path to a new folder where you want to store the sampled files\n",
    "output_folder = '/data'\n",
    "\n",
    "\n",
    "# Get a list of all files in the data folder\n",
    "all_files = os.listdir(data_folder)\n",
    "\n",
    "# Randomly sample files\n",
    "selected_files = random.sample(all_files, 1000)\n",
    "\n",
    "# Copy the sampled files to the output folder\n",
    "for file_name in selected_files:\n",
    "    source_path = os.path.join(data_folder, file_name)\n",
    "    destination_path = os.path.join(output_folder, file_name)\n",
    "    shutil.copy2(source_path, destination_path)\n"
   ]
  }
 ],
 "metadata": {
  "kernelspec": {
   "display_name": "Python 3",
   "language": "python",
   "name": "python3"
  },
  "language_info": {
   "codemirror_mode": {
    "name": "ipython",
    "version": 3
   },
   "file_extension": ".py",
   "mimetype": "text/x-python",
   "name": "python",
   "nbconvert_exporter": "python",
   "pygments_lexer": "ipython3",
   "version": "3.11.4"
  }
 },
 "nbformat": 4,
 "nbformat_minor": 2
}
